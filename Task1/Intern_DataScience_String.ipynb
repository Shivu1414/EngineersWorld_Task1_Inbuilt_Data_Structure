{
 "cells": [
  {
   "cell_type": "markdown",
   "id": "dd11a73e",
   "metadata": {},
   "source": [
    "# String"
   ]
  },
  {
   "cell_type": "markdown",
   "id": "8d402589",
   "metadata": {},
   "source": [
    "# Count , Endswith , Startswith , Capitalize , find"
   ]
  },
  {
   "cell_type": "code",
   "execution_count": 30,
   "id": "54f30083",
   "metadata": {},
   "outputs": [
    {
     "name": "stdout",
     "output_type": "stream",
     "text": [
      "hello! this side shivam\n",
      "Hello! this side shivam\n"
     ]
    }
   ],
   "source": [
    "str1=\"hello! this side shivam\"\n",
    "print(str1)\n",
    "print(str1.capitalize())"
   ]
  },
  {
   "cell_type": "code",
   "execution_count": 9,
   "id": "e7fe6d83",
   "metadata": {},
   "outputs": [
    {
     "name": "stdout",
     "output_type": "stream",
     "text": [
      "johny johny yes papa \n",
      "eating sugar no papa \n",
      "telling a lie no papa\n",
      "open your mouth hahaha\n",
      "2\n",
      "2\n",
      "3\n"
     ]
    }
   ],
   "source": [
    "str1=\"\"\"johny johny yes papa \n",
    "eating sugar no papa \n",
    "telling a lie no papa\n",
    "open your mouth hahaha\"\"\"\n",
    "print(str1)\n",
    "print(str1.count(\"no\"))\n",
    "print(str1.count(\"johny\"))\n",
    "print(str1.count(\"papa\"))"
   ]
  },
  {
   "cell_type": "code",
   "execution_count": 16,
   "id": "85edfde4",
   "metadata": {},
   "outputs": [
    {
     "name": "stdout",
     "output_type": "stream",
     "text": [
      "www.google.com\n",
      "True\n",
      "True\n",
      "False\n",
      "True\n",
      "False\n"
     ]
    }
   ],
   "source": [
    "str1=\"www.google.com\"\n",
    "print(str1)\n",
    "print(str1.endswith(\"m\"))\n",
    "print(str1.endswith(\".com\"))\n",
    "print(str1.endswith(\"tata\"))\n",
    "print(str1.startswith(\"w\"))\n",
    "print(str1.startswith(\"johny\"))"
   ]
  },
  {
   "cell_type": "code",
   "execution_count": 29,
   "id": "f38618c9",
   "metadata": {},
   "outputs": [
    {
     "name": "stdout",
     "output_type": "stream",
     "text": [
      "9\n",
      "5\n",
      "18\n"
     ]
    }
   ],
   "source": [
    "str2=\"Leeca is my first website\"\n",
    "print(str2.find(\"my\"))\n",
    "print(str2.find(\" \"))\n",
    "print(str2.find(\"website\"))"
   ]
  },
  {
   "cell_type": "markdown",
   "id": "32dae213",
   "metadata": {},
   "source": [
    "# Split of string"
   ]
  },
  {
   "cell_type": "code",
   "execution_count": 28,
   "id": "2d3b8731",
   "metadata": {},
   "outputs": [
    {
     "name": "stdout",
     "output_type": "stream",
     "text": [
      "['Leeca', 'is', 'my', 'first', 'website']\n",
      "['Leeca', 'is', 'my', 'first', 'website']\n",
      "is\n"
     ]
    }
   ],
   "source": [
    "str2=\"Leeca is my first website\"\n",
    "print(str2.split(\" \"))\n",
    "list1=list(str2.split(\" \"))\n",
    "print(list1)\n",
    "print(list1[1])"
   ]
  },
  {
   "cell_type": "code",
   "execution_count": 36,
   "id": "4b75c35e",
   "metadata": {},
   "outputs": [
    {
     "name": "stdout",
     "output_type": "stream",
     "text": [
      "['Leeca i', ' my fir', 't web', 'ite']\n",
      "Leeca is my first website\n",
      "25\n",
      "['Leeca', 'is', 'my', 'first', 'website']\n"
     ]
    }
   ],
   "source": [
    "str2=\"Leeca is my first website\"\n",
    "print(str2.split(\"s\"))\n",
    "print(str2)\n",
    "print(len(str2))\n",
    "print(str2.split())                         #By default takinf split as space."
   ]
  },
  {
   "cell_type": "markdown",
   "id": "96783f48",
   "metadata": {},
   "source": [
    "# Title and Len"
   ]
  },
  {
   "cell_type": "code",
   "execution_count": 37,
   "id": "c12ed3b3",
   "metadata": {},
   "outputs": [
    {
     "name": "stdout",
     "output_type": "stream",
     "text": [
      "Leeca Is My First Website\n"
     ]
    }
   ],
   "source": [
    "# Title make each word first letter as a capital\n",
    "print(str2.title())"
   ]
  },
  {
   "cell_type": "code",
   "execution_count": 38,
   "id": "1ef2ed4a",
   "metadata": {},
   "outputs": [
    {
     "name": "stdout",
     "output_type": "stream",
     "text": [
      "25\n"
     ]
    }
   ],
   "source": [
    "#len function return length of the string.\n",
    "str2=\"Leeca is my first website\"\n",
    "print(len(str2))"
   ]
  },
  {
   "cell_type": "markdown",
   "id": "660edc95",
   "metadata": {},
   "source": [
    "# Lower , Islower , Upper , Isupper "
   ]
  },
  {
   "cell_type": "code",
   "execution_count": 41,
   "id": "66cf1058",
   "metadata": {},
   "outputs": [
    {
     "name": "stdout",
     "output_type": "stream",
     "text": [
      "zedoor is my website\n",
      "zedoor Is My Website\n",
      "False\n",
      "True\n"
     ]
    }
   ],
   "source": [
    "str3=\"zedoor Is My Website\"\n",
    "print(str3.lower())\n",
    "print(str3)\n",
    "str=str3.lower()\n",
    "print(str3.islower())\n",
    "print(str.islower())"
   ]
  },
  {
   "cell_type": "code",
   "execution_count": 43,
   "id": "16e528c4",
   "metadata": {},
   "outputs": [
    {
     "name": "stdout",
     "output_type": "stream",
     "text": [
      "ZEDOOR IS MY WEBSITE\n",
      "zedoor Is My Website\n",
      "False\n",
      "True\n"
     ]
    }
   ],
   "source": [
    "str3=\"zedoor Is My Website\"\n",
    "print(str3.upper())\n",
    "print(str3)\n",
    "str=str3.upper()\n",
    "print(str3.isupper())\n",
    "print(str.isupper())"
   ]
  },
  {
   "cell_type": "markdown",
   "id": "304200dc",
   "metadata": {},
   "source": [
    "# Swapcase"
   ]
  },
  {
   "cell_type": "code",
   "execution_count": 44,
   "id": "a16fee96",
   "metadata": {},
   "outputs": [
    {
     "name": "stdout",
     "output_type": "stream",
     "text": [
      "tORDO is mY SeCOND WEBsITE\n"
     ]
    }
   ],
   "source": [
    "#Swapcase reverse the order of strinf, convert lower case to upper case and upper case to lower case.\n",
    "str4=\"Tordo IS My sEcond webSite\"\n",
    "print(str4.swapcase())"
   ]
  },
  {
   "cell_type": "markdown",
   "id": "d6b3c3b7",
   "metadata": {},
   "source": [
    "# Replace"
   ]
  },
  {
   "cell_type": "code",
   "execution_count": 46,
   "id": "7253c585",
   "metadata": {},
   "outputs": [
    {
     "name": "stdout",
     "output_type": "stream",
     "text": [
      "Hello! welcome Shivam Baranwal\n",
      "Hello! welcome Shaju Baranwal\n",
      "Hello! welcome Shivam Baranwal\n",
      "Hello! Welcome Shivam BaranWal\n",
      "Hello! Welcome Shivam BaranWal\n"
     ]
    }
   ],
   "source": [
    "str5=\"Hello! welcome Shivam Baranwal\"\n",
    "print(str5)\n",
    "print(str5.replace(\"Shivam\",\"Shaju\"))\n",
    "print(str5)\n",
    "print(str5.replace('w','W'))\n",
    "print(str5.replace(\"w\",\"W\"))"
   ]
  },
  {
   "cell_type": "markdown",
   "id": "6b898ec3",
   "metadata": {},
   "source": [
    "# Isdigit and Isalpha"
   ]
  },
  {
   "cell_type": "code",
   "execution_count": 50,
   "id": "6d9eef36",
   "metadata": {},
   "outputs": [
    {
     "name": "stdout",
     "output_type": "stream",
     "text": [
      "True\n",
      "False\n",
      "False\n"
     ]
    }
   ],
   "source": [
    "# Isdigit return true if the is Digit Otherwise false.\n",
    "str6=\"12345\"\n",
    "print(str6.isdigit())\n",
    "str6=\"1254g\"\n",
    "print(str6.isdigit())\n",
    "str6=\"12345 \"                         #Space in String algo return false in isdigit function.\n",
    "print(str6.isdigit())"
   ]
  },
  {
   "cell_type": "code",
   "execution_count": 51,
   "id": "27b9c1e2",
   "metadata": {},
   "outputs": [
    {
     "name": "stdout",
     "output_type": "stream",
     "text": [
      "True\n",
      "False\n",
      "False\n"
     ]
    }
   ],
   "source": [
    "# Isalpha return true if string has only character Otherwise false.\n",
    "str6=\"hello\"\n",
    "print(str6.isalpha())\n",
    "str6=\"1234g\"\n",
    "print(str6.isalpha())\n",
    "str6=\"Hello \"                        #Space in string also gives false in isalpha function.\n",
    "print(str6.isalpha())"
   ]
  },
  {
   "cell_type": "markdown",
   "id": "16f7ecb8",
   "metadata": {},
   "source": [
    "# Strip , lstrip , rstrip"
   ]
  },
  {
   "cell_type": "code",
   "execution_count": 1,
   "id": "c7f7023f",
   "metadata": {},
   "outputs": [
    {
     "name": "stdout",
     "output_type": "stream",
     "text": [
      "!!!! hello!\n",
      " hello\n"
     ]
    }
   ],
   "source": [
    "str7=\"!!!! hello!\"\n",
    "print(str7)\n",
    "print(str7.strip(\"!\"))"
   ]
  },
  {
   "cell_type": "code",
   "execution_count": 4,
   "id": "6fca021c",
   "metadata": {},
   "outputs": [
    {
     "name": "stdout",
     "output_type": "stream",
     "text": [
      "@@ hello @@ world@@\n",
      " hello @@ world\n"
     ]
    }
   ],
   "source": [
    "#Strip function only remove charecter from starting and the end, not from middle.\n",
    "str7=\"@@ hello @@ world@@\"\n",
    "print(str7)\n",
    "print(str7.strip(\"@\"))"
   ]
  },
  {
   "cell_type": "code",
   "execution_count": 5,
   "id": "4401e997",
   "metadata": {},
   "outputs": [
    {
     "name": "stdout",
     "output_type": "stream",
     "text": [
      " hello!! world!! \n",
      " hello!! world!! \n"
     ]
    }
   ],
   "source": [
    "str7=\"!! hello!! world!! \"     #Space does not striped.\n",
    "print(str7.strip(\"!\"))\n",
    "print(str7.lstrip(\"!\"))"
   ]
  },
  {
   "cell_type": "code",
   "execution_count": 6,
   "id": "b1d44707",
   "metadata": {},
   "outputs": [
    {
     "name": "stdout",
     "output_type": "stream",
     "text": [
      "!! hello world!!!\n",
      "!! hello world\n"
     ]
    }
   ],
   "source": [
    "str7=\"!! hello world!!!\"\n",
    "print(str7)\n",
    "print(str7.rstrip(\"!\"))"
   ]
  },
  {
   "cell_type": "markdown",
   "id": "1a56d4f4",
   "metadata": {},
   "source": [
    "# Translate , Maketrans"
   ]
  },
  {
   "cell_type": "code",
   "execution_count": 17,
   "id": "79f41efe",
   "metadata": {},
   "outputs": [
    {
     "name": "stdout",
     "output_type": "stream",
     "text": [
      "{104: '1', 116: '2', 83: '3'}\n"
     ]
    }
   ],
   "source": [
    "#maketrans can take three argument ,if take an argument that will be dictionary. it create table to translate the charecter.\n",
    "string=\"hello this side Shivam\"\n",
    "dict1={\"h\":\"1\",\"t\":\"2\",\"S\":\"3\"}\n",
    "table=string.maketrans(dict1)\n",
    "print(table)"
   ]
  },
  {
   "cell_type": "code",
   "execution_count": null,
   "id": "0f0e0c20",
   "metadata": {},
   "outputs": [],
   "source": [
    "#translate function use maketrans for transform the string."
   ]
  },
  {
   "cell_type": "code",
   "execution_count": 18,
   "id": "f4e08b05",
   "metadata": {},
   "outputs": [
    {
     "name": "stdout",
     "output_type": "stream",
     "text": [
      "{104: '1', 116: '2', 83: '3'}\n",
      "1ello 21is side 31ivam\n"
     ]
    }
   ],
   "source": [
    "string=\"hello this side Shivam\"\n",
    "dict1={\"h\":\"1\",\"t\":\"2\",\"S\":\"3\"}\n",
    "table=string.maketrans(dict1)\n",
    "print(table)\n",
    "print(string.translate(table))"
   ]
  },
  {
   "cell_type": "code",
   "execution_count": 20,
   "id": "fa602f7d",
   "metadata": {},
   "outputs": [
    {
     "name": "stdout",
     "output_type": "stream",
     "text": [
      "{104: 53, 101: 50, 115: 51, 105: 100, 118: 116}\n",
      "52lo t5d3 3dd2 35dtam\n"
     ]
    }
   ],
   "source": [
    "#two argument in maketrans, first is translated into second argument.\n",
    "String=\"helo this side shivam\"\n",
    "str1=\"hesiv\"\n",
    "str2=\"523dt\"\n",
    "table=String.maketrans(str1,str2)\n",
    "print(table)\n",
    "print(String.translate(table))"
   ]
  },
  {
   "cell_type": "code",
   "execution_count": 21,
   "id": "fa91073e",
   "metadata": {},
   "outputs": [
    {
     "name": "stdout",
     "output_type": "stream",
     "text": [
      "{104: 57, 101: 56, 108: 116, 115: 114, 105: 101, 111: None, 109: None}\n",
      "H8tt t9er red8 r9eva\n"
     ]
    }
   ],
   "source": [
    "#third argument in maketrans use for remove that charecter from the string.\n",
    "String=\"Hello this side shivam\"\n",
    "str1=\"helsi\"\n",
    "str2=\"98tre\"\n",
    "str3=\"om\"\n",
    "table=String.maketrans(str1,str2,str3)\n",
    "print(table)\n",
    "print(String.translate(table))"
   ]
  },
  {
   "cell_type": "markdown",
   "id": "1e5c7786",
   "metadata": {},
   "source": [
    "# translate()----->table------>maketrans()"
   ]
  }
 ],
 "metadata": {
  "kernelspec": {
   "display_name": "Python 3 (ipykernel)",
   "language": "python",
   "name": "python3"
  },
  "language_info": {
   "codemirror_mode": {
    "name": "ipython",
    "version": 3
   },
   "file_extension": ".py",
   "mimetype": "text/x-python",
   "name": "python",
   "nbconvert_exporter": "python",
   "pygments_lexer": "ipython3",
   "version": "3.9.13"
  }
 },
 "nbformat": 4,
 "nbformat_minor": 5
}
