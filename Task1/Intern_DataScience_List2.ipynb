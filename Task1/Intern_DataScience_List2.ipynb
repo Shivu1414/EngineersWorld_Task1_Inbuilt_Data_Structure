{
 "cells": [
  {
   "cell_type": "markdown",
   "id": "a482439c",
   "metadata": {},
   "source": [
    "# List Sequences"
   ]
  },
  {
   "cell_type": "markdown",
   "id": "75edd26e",
   "metadata": {},
   "source": [
    "# Len ,  Slice ,  Index ,  Concatenation ,  Select ,  Count  ,  Membership "
   ]
  },
  {
   "cell_type": "code",
   "execution_count": 3,
   "id": "f74dadc9",
   "metadata": {},
   "outputs": [
    {
     "name": "stdout",
     "output_type": "stream",
     "text": [
      "[1, 1, 2, 3, 45, 5]\n",
      "6\n"
     ]
    }
   ],
   "source": [
    "list1=[1,1,2,3,45,5]\n",
    "print(list1)\n",
    "print(len(list1))"
   ]
  },
  {
   "cell_type": "code",
   "execution_count": 8,
   "id": "5a575af7",
   "metadata": {},
   "outputs": [
    {
     "name": "stdout",
     "output_type": "stream",
     "text": [
      "[1, 1]\n",
      "[1, 1, 'shivam', 3, 45, 5]\n",
      "[1, 'shivam', 3, 45, 5]\n",
      "[1]\n",
      "[]\n"
     ]
    }
   ],
   "source": [
    "list1=[1,1,\"shivam\",3,45,5]\n",
    "print(list1[:2])\n",
    "print(list1[:])\n",
    "print(list1[1:])\n",
    "print(list1[1:2])\n",
    "print(list1[2:2])"
   ]
  },
  {
   "cell_type": "code",
   "execution_count": 13,
   "id": "c0e9ccd1",
   "metadata": {},
   "outputs": [
    {
     "name": "stdout",
     "output_type": "stream",
     "text": [
      "0\n",
      "2\n"
     ]
    }
   ],
   "source": [
    "#Index\n",
    "list1=[1,1,\"shivam\",3,45,5]\n",
    "print(list1.index(1))\n",
    "print(list1.index(\"shivam\"))"
   ]
  },
  {
   "cell_type": "code",
   "execution_count": 15,
   "id": "d13127b2",
   "metadata": {},
   "outputs": [
    {
     "name": "stdout",
     "output_type": "stream",
     "text": [
      "[1, 1, 'shivam', 3, 45, 5, 'rocky', 'roni']\n"
     ]
    }
   ],
   "source": [
    "#Select\n",
    "list1=[1,1,\"shivam\",3,45,5]\n",
    "list2=[\"rocky\",\"roni\"]\n",
    "print(list1+list2)"
   ]
  },
  {
   "cell_type": "code",
   "execution_count": 5,
   "id": "6ca3ef20",
   "metadata": {},
   "outputs": [
    {
     "name": "stdout",
     "output_type": "stream",
     "text": [
      "3\n",
      "shivam\n",
      "1\n"
     ]
    }
   ],
   "source": [
    "list1=[1,1,\"shivam\",3,45,5]\n",
    "print(list1[3])\n",
    "print(list1[2])\n",
    "print(list1[0])"
   ]
  },
  {
   "cell_type": "code",
   "execution_count": 11,
   "id": "4cd5fb7d",
   "metadata": {},
   "outputs": [
    {
     "name": "stdout",
     "output_type": "stream",
     "text": [
      "2\n",
      "1\n"
     ]
    }
   ],
   "source": [
    "list1=[1,1,\"shivam\",3,45,5]\n",
    "print(list1.count(1))\n",
    "print(list1.count(\"shivam\"))"
   ]
  },
  {
   "cell_type": "code",
   "execution_count": 14,
   "id": "8b9da3fb",
   "metadata": {},
   "outputs": [
    {
     "name": "stdout",
     "output_type": "stream",
     "text": [
      "True\n",
      "False\n"
     ]
    }
   ],
   "source": [
    "list1=[1,1,\"shivam\",3,45,5]\n",
    "print(1 in list1)\n",
    "print(\"shivam\" not in list1)"
   ]
  },
  {
   "cell_type": "markdown",
   "id": "b886d491",
   "metadata": {},
   "source": [
    "# Min value ,  Max value ,  Sum"
   ]
  },
  {
   "cell_type": "code",
   "execution_count": 35,
   "id": "03f2ca63",
   "metadata": {},
   "outputs": [
    {
     "name": "stdout",
     "output_type": "stream",
     "text": [
      "1\n",
      "a\n",
      "1\n"
     ]
    }
   ],
   "source": [
    "list1=[1,1,3,45,5]\n",
    "print(min(list1))\n",
    "list2=['a','f','d','l']\n",
    "print(min(list2))\n",
    "list2=['a','f','d','l','2','1']         #min function only worked on one type of value not mixed.\n",
    "print(min(list2))\n",
    "# list2=['a','f','d','l',2,1,0]\n",
    "# print(min(list2))"
   ]
  },
  {
   "cell_type": "code",
   "execution_count": 36,
   "id": "900be905",
   "metadata": {},
   "outputs": [
    {
     "name": "stdout",
     "output_type": "stream",
     "text": [
      "45\n",
      "l\n",
      "108\n"
     ]
    }
   ],
   "source": [
    "list1=[1,1,3,45,5]\n",
    "print(max(list1))\n",
    "list2=['a','f','d','l',\"200\",'58']\n",
    "print(max(list2))   \n",
    "print(ord('l'))\n",
    "# print(ord(\"200\"))                          #Only charecter has the ordinary value , not String.\n",
    "# list2=['a','f','d','l',2,1,0]            #max function only worked on one type of value not mixed.\n",
    "# print(max(list2))"
   ]
  },
  {
   "cell_type": "code",
   "execution_count": 30,
   "id": "fc83bc13",
   "metadata": {},
   "outputs": [
    {
     "name": "stdout",
     "output_type": "stream",
     "text": [
      "55\n"
     ]
    }
   ],
   "source": [
    "list1=[1,1,3,45,5]\n",
    "print(sum(list1))\n",
    "# list2=['a','f','d','l']          #Error: we can't sum charecter\n",
    "# print(sum(list2))"
   ]
  },
  {
   "cell_type": "markdown",
   "id": "026e2aee",
   "metadata": {},
   "source": [
    "# list Copy function , Sort , Sorted"
   ]
  },
  {
   "cell_type": "code",
   "execution_count": 24,
   "id": "1170983e",
   "metadata": {},
   "outputs": [
    {
     "name": "stdout",
     "output_type": "stream",
     "text": [
      "[1, 1, 3, 45, 5]\n",
      "[1, 1, 3, 45, 5]\n",
      "[1, 1, 'Ravi', 45, 5]\n",
      "[1, 1, 'Ravi', 45, 5]\n",
      "\n",
      "[1, 4, 9]\n"
     ]
    }
   ],
   "source": [
    "list1=[1,1,3,45,5]\n",
    "list2=list1\n",
    "print(list1)\n",
    "print(list2)\n",
    "list1[2]=\"Ravi\"       #Both the list value get changed because list2 stores the list1 addresh, not copy.\n",
    "print(list1)\n",
    "print(list2)\n",
    "\n",
    "print(end='\\n')\n",
    "result=[x**2 for x in [1,2,3]]\n",
    "print(result)"
   ]
  },
  {
   "cell_type": "code",
   "execution_count": 31,
   "id": "bbc88e8d",
   "metadata": {},
   "outputs": [
    {
     "name": "stdout",
     "output_type": "stream",
     "text": [
      "[1, 1, 3, 45, 5]\n",
      "[1, 1, 3, 45, 5]\n",
      "[1, 1, 'shivam', 45, 5]\n",
      "[1, 1, 3, 45, 5]\n"
     ]
    }
   ],
   "source": [
    "lis=[1,1,3,45,5]\n",
    "list3=lis.copy()\n",
    "print(lis)\n",
    "print(list3)\n",
    "lis[2]=\"shivam\"       #Both the list value not get changed because list2 stores the list1 copy, not addresh.\n",
    "print(lis)\n",
    "print(list3)"
   ]
  },
  {
   "cell_type": "markdown",
   "id": "6c8d9b57",
   "metadata": {},
   "source": [
    "# Sort function only for list, this is built in method."
   ]
  },
  {
   "cell_type": "code",
   "execution_count": 3,
   "id": "17cfa54d",
   "metadata": {},
   "outputs": [
    {
     "name": "stdout",
     "output_type": "stream",
     "text": [
      "[1, 3, 4, 6, 7, 8]\n",
      "[8, 7, 6, 4, 3, 1]\n"
     ]
    }
   ],
   "source": [
    "list=[1,8,6,4,3,7]\n",
    "list.sort()\n",
    "print(list)\n",
    "list.sort(reverse=True)            #Reverse is optional argument and it's bydefault value is false.\n",
    "print(list)                        #after appling the function need to be print seprately."
   ]
  },
  {
   "cell_type": "code",
   "execution_count": 9,
   "id": "c9eb4def",
   "metadata": {},
   "outputs": [
    {
     "name": "stdout",
     "output_type": "stream",
     "text": [
      "['aaa', 'bb', 'd', 'rrr', 'ww']\n",
      "['ww', 'rrr', 'd', 'bb', 'aaa']\n",
      "['d', 'ww', 'bb', 'rrr', 'aaa']\n"
     ]
    }
   ],
   "source": [
    "list=['aaa','bb','d','rrr','ww']\n",
    "list.sort()\n",
    "print(list)\n",
    "list.sort(reverse=True)\n",
    "print(list)\n",
    "list.sort(key=len)           #in sort function there is an argument which is bydefault.\n",
    "print(list)"
   ]
  },
  {
   "cell_type": "markdown",
   "id": "c672659c",
   "metadata": {},
   "source": [
    "# Sort function : Through the lambda method and function"
   ]
  },
  {
   "cell_type": "code",
   "execution_count": 34,
   "id": "3e664bf9",
   "metadata": {},
   "outputs": [
    {
     "name": "stdout",
     "output_type": "stream",
     "text": [
      "[[2, 9], [3, 2], [4, 1], [5, 6]]\n",
      "[[4, 1], [3, 2], [5, 6], [2, 9]]\n",
      "[[4, 1], [3, 2], [5, 6], [2, 9]]\n"
     ]
    }
   ],
   "source": [
    "list=[[4,1],[3,2],[2,9],[5,6]]\n",
    "list.sort()                           #sorted by first value of sublist.\n",
    "print(list)\n",
    "\n",
    "list.sort(key=lambda x:x[1])          #method1: sorted by second value.\n",
    "print(list)"
   ]
  },
  {
   "cell_type": "code",
   "execution_count": null,
   "id": "f8b4a574",
   "metadata": {},
   "outputs": [],
   "source": [
    "def SortBySec(element):               #method2: sorted by second value.\n",
    "    return element[1]\n",
    "list=[[4,1],[3,2],[2,9],[5,6]]\n",
    "list.sort(key=SortBySec)\n",
    "print(list)"
   ]
  },
  {
   "cell_type": "markdown",
   "id": "36c451a7",
   "metadata": {},
   "source": [
    "# Sorted function for list, tuple, Dictionary."
   ]
  },
  {
   "cell_type": "code",
   "execution_count": 36,
   "id": "de14d29d",
   "metadata": {},
   "outputs": [
    {
     "name": "stdout",
     "output_type": "stream",
     "text": [
      "None\n",
      "[1, 2, 3, 4, 6, 8]\n",
      "[1, 2, 3, 4, 6, 8]\n"
     ]
    }
   ],
   "source": [
    "list=[1,2,3,8,6,4]\n",
    "li=sorted(list)\n",
    "lis=list.sort()          #return nothing but make list sort.\n",
    "print(lis)\n",
    "print(li)\n",
    "print(list)"
   ]
  },
  {
   "cell_type": "code",
   "execution_count": 40,
   "id": "f8665390",
   "metadata": {},
   "outputs": [
    {
     "name": "stdout",
     "output_type": "stream",
     "text": [
      "[8, 6, 4, 3, 2, 1]\n"
     ]
    }
   ],
   "source": [
    "list=[1,2,3,8,6,4]\n",
    "print(sorted(list,reverse=True))"
   ]
  },
  {
   "cell_type": "code",
   "execution_count": 41,
   "id": "c3daea1c",
   "metadata": {},
   "outputs": [
    {
     "name": "stdout",
     "output_type": "stream",
     "text": [
      "Help on built-in function sorted in module builtins:\n",
      "\n",
      "sorted(iterable, /, *, key=None, reverse=False)\n",
      "    Return a new list containing all items from the iterable in ascending order.\n",
      "    \n",
      "    A custom key function can be supplied to customize the sort order, and the\n",
      "    reverse flag can be set to request the result in descending order.\n",
      "\n"
     ]
    }
   ],
   "source": [
    "help(sorted)"
   ]
  },
  {
   "cell_type": "code",
   "execution_count": null,
   "id": "6bb09b15",
   "metadata": {},
   "outputs": [],
   "source": []
  }
 ],
 "metadata": {
  "kernelspec": {
   "display_name": "Python 3 (ipykernel)",
   "language": "python",
   "name": "python3"
  },
  "language_info": {
   "codemirror_mode": {
    "name": "ipython",
    "version": 3
   },
   "file_extension": ".py",
   "mimetype": "text/x-python",
   "name": "python",
   "nbconvert_exporter": "python",
   "pygments_lexer": "ipython3",
   "version": "3.9.13"
  }
 },
 "nbformat": 4,
 "nbformat_minor": 5
}
