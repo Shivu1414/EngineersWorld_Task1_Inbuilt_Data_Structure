{
 "cells": [
  {
   "cell_type": "markdown",
   "id": "42775ed3",
   "metadata": {},
   "source": [
    "# Set"
   ]
  },
  {
   "cell_type": "code",
   "execution_count": 2,
   "id": "52f980a3",
   "metadata": {},
   "outputs": [
    {
     "name": "stdout",
     "output_type": "stream",
     "text": [
      "{1, 2, 3, 4, 5, 6}\n",
      "{'ravi', 'Jainedra', 'Shivam'}\n"
     ]
    }
   ],
   "source": [
    "set1={\"apple\",\"banana\",1,2,3}      \n",
    "print(set1)\n",
    "set1={1,2,3,4,5,6}\n",
    "print(set1)\n",
    "set1={\"Shivam\",\"Jainedra\",\"ravi\"}\n",
    "print(set1)"
   ]
  },
  {
   "cell_type": "code",
   "execution_count": 22,
   "id": "f4127b2c",
   "metadata": {},
   "outputs": [
    {
     "name": "stdout",
     "output_type": "stream",
     "text": [
      "{1, 2, 3, 4, 6, 8}\n"
     ]
    }
   ],
   "source": [
    "set1={6,2,3,8,4,1}           #set automaticly return the sorted value.\n",
    "print(set1)"
   ]
  },
  {
   "cell_type": "markdown",
   "id": "5f0e0921",
   "metadata": {},
   "source": [
    "# Add"
   ]
  },
  {
   "cell_type": "code",
   "execution_count": 5,
   "id": "5d0c055b",
   "metadata": {},
   "outputs": [
    {
     "name": "stdout",
     "output_type": "stream",
     "text": [
      "{'ravi', 'Jainedra', 'rahul', 'Shivam'}\n",
      "{1, 'Shivam', 'ravi', 'rahul', 'Jainedra'}\n",
      "{1, 2, 3, 'shiv'}\n"
     ]
    }
   ],
   "source": [
    "set1={\"Shivam\",\"Jainedra\",\"ravi\"}\n",
    "set1.add(\"rahul\")\n",
    "print(set1)\n",
    "set1.add(1)\n",
    "print(set1)\n",
    "set1={\"shiv\",1,2,3}\n",
    "print(set1)"
   ]
  },
  {
   "cell_type": "markdown",
   "id": "a69fc6e6",
   "metadata": {},
   "source": [
    "# Frozenset"
   ]
  },
  {
   "cell_type": "code",
   "execution_count": 8,
   "id": "62fbe5dc",
   "metadata": {},
   "outputs": [
    {
     "name": "stdout",
     "output_type": "stream",
     "text": [
      "{8, 9, 3, 4}\n",
      "frozenset({8, 9, 3, 4})\n"
     ]
    }
   ],
   "source": [
    "set1={9,8,4,3,3,4,4,4}      # set can ot have the repitative value.\n",
    "print(set1)\n",
    "set2=frozenset(set1)        #frozenset create set which should not e updatale.\n",
    "print(set2)\n",
    "# set2.add(\"shivam\")\n",
    "# set2.add(1)\n",
    "# print(set2)"
   ]
  },
  {
   "cell_type": "markdown",
   "id": "15510af6",
   "metadata": {},
   "source": [
    "# Emptyset"
   ]
  },
  {
   "cell_type": "code",
   "execution_count": 12,
   "id": "8fff8850",
   "metadata": {},
   "outputs": [
    {
     "name": "stdout",
     "output_type": "stream",
     "text": [
      "<class 'dict'>\n",
      "set()\n",
      "<class 'set'>\n",
      "{1}\n"
     ]
    }
   ],
   "source": [
    "set1={}                #this create dictioary not set.\n",
    "print(type(set1))\n",
    "set1=set()\n",
    "print(set1)            #this create empty set.\n",
    "set1={1,}\n",
    "print(type(set1))\n",
    "print(set1)"
   ]
  },
  {
   "cell_type": "markdown",
   "id": "1d0b7282",
   "metadata": {},
   "source": [
    "# Copy set"
   ]
  },
  {
   "cell_type": "code",
   "execution_count": 15,
   "id": "3cd3a71c",
   "metadata": {},
   "outputs": [
    {
     "name": "stdout",
     "output_type": "stream",
     "text": [
      "{1, 2, 3, 4, 5, 'shiv'}\n",
      "{1, 2, 3, 4, 5, 'shiv'}\n",
      "{1, 2, 3, 4, 5, 'shiv'}\n",
      "{1, 2, 3, 4, 5, 'shiv', 'Baranwal'}\n"
     ]
    }
   ],
   "source": [
    "set1={1,2,3,4,5,\"shiv\"}\n",
    "print(set1)\n",
    "set2=set(set1)\n",
    "print(set2)\n",
    "set2.add(\"Baranwal\")\n",
    "print(set1)\n",
    "print(set2)"
   ]
  },
  {
   "cell_type": "markdown",
   "id": "e024e2e1",
   "metadata": {},
   "source": [
    "# Set Operations"
   ]
  },
  {
   "cell_type": "markdown",
   "id": "69b17670",
   "metadata": {},
   "source": [
    "# Membership,   Intersection,   Add,   Difference,   Remove"
   ]
  },
  {
   "cell_type": "code",
   "execution_count": 17,
   "id": "baf15345",
   "metadata": {},
   "outputs": [
    {
     "name": "stdout",
     "output_type": "stream",
     "text": [
      "True\n",
      "False\n"
     ]
    }
   ],
   "source": [
    "#membership\n",
    "set2={1,2,3,4.5,6}\n",
    "print(2 in set2)\n",
    "print(2 not in set2)"
   ]
  },
  {
   "cell_type": "code",
   "execution_count": 19,
   "id": "3c0b559f",
   "metadata": {},
   "outputs": [
    {
     "name": "stdout",
     "output_type": "stream",
     "text": [
      "{1, 2.3, 4, 'shivam'}\n"
     ]
    }
   ],
   "source": [
    "#Add\n",
    "set={1,2.3,4}\n",
    "set.add(\"shivam\")\n",
    "print(set)"
   ]
  },
  {
   "cell_type": "code",
   "execution_count": 21,
   "id": "a7102745",
   "metadata": {},
   "outputs": [
    {
     "name": "stdout",
     "output_type": "stream",
     "text": [
      "{2, 'shiv', 4}\n"
     ]
    }
   ],
   "source": [
    "#Remove\n",
    "set={\"shiv\",4,2,3}\n",
    "set.remove(3)\n",
    "print(set)"
   ]
  },
  {
   "cell_type": "code",
   "execution_count": 25,
   "id": "5b0e13ed",
   "metadata": {},
   "outputs": [
    {
     "name": "stdout",
     "output_type": "stream",
     "text": [
      "{1}\n"
     ]
    }
   ],
   "source": [
    "#Intersection\n",
    "set1={1,2,3}\n",
    "set2={1,8}\n",
    "print(set1&set2)"
   ]
  },
  {
   "cell_type": "code",
   "execution_count": 26,
   "id": "be19e71e",
   "metadata": {},
   "outputs": [
    {
     "name": "stdout",
     "output_type": "stream",
     "text": [
      "{3, 4}\n",
      "{8, 5}\n"
     ]
    }
   ],
   "source": [
    "#Difference\n",
    "set1={1,2,3,4}\n",
    "set2={1,2,5,8}\n",
    "print(set1-set2)\n",
    "print(set2-set1)"
   ]
  },
  {
   "cell_type": "markdown",
   "id": "56d42935",
   "metadata": {},
   "source": [
    "# Sym.difference,  Union,  Size,  Clear,  Copy "
   ]
  },
  {
   "cell_type": "code",
   "execution_count": 23,
   "id": "577bf23d",
   "metadata": {},
   "outputs": [
    {
     "name": "stdout",
     "output_type": "stream",
     "text": [
      "{1, 2, 3, 4, 5, 'shiv', 6, 8, 9}\n"
     ]
    }
   ],
   "source": [
    "#Union\n",
    "set1={1,2,3,4,5,\"shiv\"}\n",
    "set2={1,9,8,6,2}\n",
    "print(set1|set2)"
   ]
  },
  {
   "cell_type": "code",
   "execution_count": 24,
   "id": "721078f5",
   "metadata": {},
   "outputs": [
    {
     "name": "stdout",
     "output_type": "stream",
     "text": [
      "{40, 1, 2, 3}\n",
      "set()\n"
     ]
    }
   ],
   "source": [
    "#Clear\n",
    "set1={1,2,3,40}\n",
    "print(set1)\n",
    "set1.clear()\n",
    "print(set1)"
   ]
  },
  {
   "cell_type": "code",
   "execution_count": 29,
   "id": "b7096135",
   "metadata": {},
   "outputs": [
    {
     "name": "stdout",
     "output_type": "stream",
     "text": [
      "5\n"
     ]
    }
   ],
   "source": [
    "#Size (len)\n",
    "set1={1,2,3,4,5}\n",
    "print(len(set1))"
   ]
  },
  {
   "cell_type": "code",
   "execution_count": 28,
   "id": "9ff7c4f0",
   "metadata": {},
   "outputs": [
    {
     "name": "stdout",
     "output_type": "stream",
     "text": [
      "{1, 2, 3, 4}\n",
      "{1, 2, 3, 4}\n",
      "{1, 2, 3, 4, 'shiv'}\n",
      "{1, 2, 3, 4}\n"
     ]
    }
   ],
   "source": [
    "#Copy\n",
    "set1={1,2,3,4}\n",
    "set2=set1.copy()\n",
    "print(set1)\n",
    "print(set2)\n",
    "set1.add(\"shiv\")\n",
    "print(set1)\n",
    "print(set2)"
   ]
  },
  {
   "cell_type": "code",
   "execution_count": 30,
   "id": "e99c2e79",
   "metadata": {},
   "outputs": [
    {
     "name": "stdout",
     "output_type": "stream",
     "text": [
      "{3, 4, 8, 9}\n"
     ]
    }
   ],
   "source": [
    "#Sym. difference\n",
    "set1={1,2,3,4}\n",
    "set2={1,2,8,9}\n",
    "print(set1^set2)"
   ]
  },
  {
   "cell_type": "code",
   "execution_count": null,
   "id": "f0d63c2b",
   "metadata": {},
   "outputs": [],
   "source": []
  }
 ],
 "metadata": {
  "kernelspec": {
   "display_name": "Python 3 (ipykernel)",
   "language": "python",
   "name": "python3"
  },
  "language_info": {
   "codemirror_mode": {
    "name": "ipython",
    "version": 3
   },
   "file_extension": ".py",
   "mimetype": "text/x-python",
   "name": "python",
   "nbconvert_exporter": "python",
   "pygments_lexer": "ipython3",
   "version": "3.9.13"
  }
 },
 "nbformat": 4,
 "nbformat_minor": 5
}
