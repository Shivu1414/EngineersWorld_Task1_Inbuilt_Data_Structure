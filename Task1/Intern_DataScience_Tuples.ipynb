{
 "cells": [
  {
   "cell_type": "markdown",
   "id": "8b495b93",
   "metadata": {},
   "source": [
    "# Tuples"
   ]
  },
  {
   "cell_type": "code",
   "execution_count": 2,
   "id": "a07861f3",
   "metadata": {},
   "outputs": [
    {
     "name": "stdout",
     "output_type": "stream",
     "text": [
      "('dog', 'cat', 'monkey')\n"
     ]
    }
   ],
   "source": [
    "tuple=(\"dog\",\"cat\",\"monkey\")\n",
    "print(tuple)"
   ]
  },
  {
   "cell_type": "code",
   "execution_count": 1,
   "id": "33a68d47",
   "metadata": {},
   "outputs": [
    {
     "name": "stdout",
     "output_type": "stream",
     "text": [
      "<class 'tuple'>\n"
     ]
    }
   ],
   "source": [
    "# we can't delete, replace, insert in the tuples because tuple is immutable.\n",
    "num=()\n",
    "print(type(num))"
   ]
  },
  {
   "cell_type": "code",
   "execution_count": 1,
   "id": "d1f87d3e",
   "metadata": {},
   "outputs": [
    {
     "name": "stdout",
     "output_type": "stream",
     "text": [
      "('dog', 'cat', 'monkey')\n"
     ]
    }
   ],
   "source": [
    "tuple=(\"dog\",\"cat\",\"monkey\")\n",
    "print(tuple)\n",
    "\n",
    "# Error: can't modified it.\n",
    "tuple(2)=\"elephant\"\n",
    "print(tuple)"
   ]
  },
  {
   "cell_type": "markdown",
   "id": "1d3f822a",
   "metadata": {},
   "source": [
    "# Sorted"
   ]
  },
  {
   "cell_type": "code",
   "execution_count": 7,
   "id": "75d824c3",
   "metadata": {},
   "outputs": [
    {
     "name": "stdout",
     "output_type": "stream",
     "text": [
      "(8, 6, 3, 1, 5, 2)\n",
      "[1, 2, 3, 5, 6, 8]\n",
      "[1, 2, 3, 5, 6, 8]\n",
      "<class 'list'>\n",
      "[1, 2, 'elephant', 5, 6, 8]\n"
     ]
    }
   ],
   "source": [
    "#Sorted function for all list, dictionary, tuple and this returns the output in list.\n",
    "tuple=(8,6,3,1,5,2)\n",
    "print(tuple)\n",
    "print(sorted(tuple))\n",
    "tup1=sorted(tuple)\n",
    "print(tup1)\n",
    "print(type(tup1))\n",
    "tup1[2]=\"elephant\"\n",
    "print(tup1)"
   ]
  },
  {
   "cell_type": "code",
   "execution_count": 5,
   "id": "ae97084e",
   "metadata": {},
   "outputs": [
    {
     "name": "stdout",
     "output_type": "stream",
     "text": [
      "[(4, 1), (3, 2), (5, 6), (2, 9)]\n"
     ]
    }
   ],
   "source": [
    "def SortBySec(element):               #method1: sorted by second value.\n",
    "    return element[1]\n",
    "tuple=((4,1),(3,2),(2,9),(5,6))\n",
    "print(sorted(tuple,key=SortBySec))"
   ]
  },
  {
   "cell_type": "markdown",
   "id": "c2446919",
   "metadata": {},
   "source": [
    "# Len"
   ]
  },
  {
   "cell_type": "code",
   "execution_count": 8,
   "id": "b7555a6b",
   "metadata": {},
   "outputs": [
    {
     "name": "stdout",
     "output_type": "stream",
     "text": [
      "(1, 2, 35, 5, 5)\n",
      "5\n"
     ]
    }
   ],
   "source": [
    "tuple=(1,2,35,5,5)\n",
    "print(tuple)\n",
    "print(len(tuple))"
   ]
  },
  {
   "cell_type": "markdown",
   "id": "fe5f8b80",
   "metadata": {},
   "source": [
    "# Membership"
   ]
  },
  {
   "cell_type": "code",
   "execution_count": 10,
   "id": "6e9e2339",
   "metadata": {},
   "outputs": [
    {
     "name": "stdout",
     "output_type": "stream",
     "text": [
      "True\n",
      "False\n"
     ]
    }
   ],
   "source": [
    "tuple=(1,2,35,\"shivam\",5)\n",
    "print(1 in tuple)\n",
    "print(\"shivam\" not in tuple)"
   ]
  },
  {
   "cell_type": "markdown",
   "id": "83b1c18a",
   "metadata": {},
   "source": [
    "# Concatenation"
   ]
  },
  {
   "cell_type": "code",
   "execution_count": 11,
   "id": "b4886312",
   "metadata": {},
   "outputs": [
    {
     "name": "stdout",
     "output_type": "stream",
     "text": [
      "(1, 2, 3, 5, 5, 'shivam', 'Roni')\n"
     ]
    }
   ],
   "source": [
    "tup1=(1,2,3,5,5)\n",
    "tup2=(\"shivam\", \"Roni\")\n",
    "print(tup1+tup2)"
   ]
  },
  {
   "cell_type": "markdown",
   "id": "1e762027",
   "metadata": {},
   "source": [
    "# Min , Max , Sum"
   ]
  },
  {
   "cell_type": "code",
   "execution_count": 14,
   "id": "f17bb13c",
   "metadata": {},
   "outputs": [
    {
     "name": "stdout",
     "output_type": "stream",
     "text": [
      "1\n",
      "5\n",
      "16\n"
     ]
    }
   ],
   "source": [
    "tup1=(1,2,3,5,5)\n",
    "print(min(tup1))\n",
    "print(max(tup1))\n",
    "print(sum(tup1))"
   ]
  }
 ],
 "metadata": {
  "kernelspec": {
   "display_name": "Python 3 (ipykernel)",
   "language": "python",
   "name": "python3"
  },
  "language_info": {
   "codemirror_mode": {
    "name": "ipython",
    "version": 3
   },
   "file_extension": ".py",
   "mimetype": "text/x-python",
   "name": "python",
   "nbconvert_exporter": "python",
   "pygments_lexer": "ipython3",
   "version": "3.9.13"
  }
 },
 "nbformat": 4,
 "nbformat_minor": 5
}
