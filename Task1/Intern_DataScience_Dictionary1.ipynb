{
 "cells": [
  {
   "cell_type": "markdown",
   "id": "a117fa77",
   "metadata": {},
   "source": [
    "# Dictionary"
   ]
  },
  {
   "cell_type": "code",
   "execution_count": 2,
   "id": "753797a9",
   "metadata": {},
   "outputs": [
    {
     "name": "stdout",
     "output_type": "stream",
     "text": [
      "{1: 'Tomato', 2: 'Potato', 3: 'Ginger'}\n"
     ]
    }
   ],
   "source": [
    "dict1={}\n",
    "dict1[1]=\"Tomato\"\n",
    "dict1[2]=\"Potato\"\n",
    "dict1[3]=\"Ginger\"\n",
    "print(dict1)"
   ]
  },
  {
   "cell_type": "code",
   "execution_count": 5,
   "id": "c84de36e",
   "metadata": {},
   "outputs": [
    {
     "name": "stdout",
     "output_type": "stream",
     "text": [
      "{1: 'ravi', 2: 'kishan', 3: 'saurabh'}\n",
      "ravi\n"
     ]
    }
   ],
   "source": [
    "dict1={1:\"ravi\",2:\"kishan\",3:\"saurabh\"}\n",
    "print(dict1)\n",
    "print(dict1[1])"
   ]
  },
  {
   "cell_type": "markdown",
   "id": "78fd6c40",
   "metadata": {},
   "source": [
    "# Print Keys and Values"
   ]
  },
  {
   "cell_type": "code",
   "execution_count": 4,
   "id": "0842b73f",
   "metadata": {},
   "outputs": [
    {
     "name": "stdout",
     "output_type": "stream",
     "text": [
      "{1: 'ravi', 2: 'kishan', 3: 'saurabh'}\n",
      "dict_keys([1, 2, 3])\n",
      "dict_values(['ravi', 'kishan', 'saurabh'])\n"
     ]
    }
   ],
   "source": [
    "dict1={1:\"ravi\",2:\"kishan\",3:\"saurabh\"}\n",
    "print(dict1)\n",
    "print(dict1.keys())\n",
    "print(dict1.values())"
   ]
  },
  {
   "cell_type": "markdown",
   "id": "d7a91f57",
   "metadata": {},
   "source": [
    "# Copy,   Len,   Check_key(Membership)"
   ]
  },
  {
   "cell_type": "code",
   "execution_count": 6,
   "id": "58823a24",
   "metadata": {},
   "outputs": [
    {
     "name": "stdout",
     "output_type": "stream",
     "text": [
      "{1: 'ravi', 2: 'kishan', 3: 'saurabh'}\n",
      "{1: 'ravi', 2: 'kishan', 3: 'saurabh'}\n"
     ]
    }
   ],
   "source": [
    "#Copy\n",
    "dict1={1:\"ravi\",2:\"kishan\",3:\"saurabh\"}\n",
    "dict2={}\n",
    "dict2=dict(dict1)\n",
    "print(dict1)\n",
    "print(dict2)"
   ]
  },
  {
   "cell_type": "code",
   "execution_count": 7,
   "id": "3e5722fa",
   "metadata": {},
   "outputs": [
    {
     "name": "stdout",
     "output_type": "stream",
     "text": [
      "3\n"
     ]
    }
   ],
   "source": [
    "#len\n",
    "dict1={1:\"ravi\",2:\"kishan\",3:\"saurabh\"}\n",
    "print(len(dict1))"
   ]
  },
  {
   "cell_type": "code",
   "execution_count": 1,
   "id": "6e4a5b3c",
   "metadata": {},
   "outputs": [
    {
     "name": "stdout",
     "output_type": "stream",
     "text": [
      "True\n",
      "False\n"
     ]
    }
   ],
   "source": [
    "#check_key\n",
    "dict1={1:\"ravi\",2:\"kishan\",3:\"saurabh\"}\n",
    "print(1 in dict1)\n",
    "print(5 in dict1)"
   ]
  },
  {
   "cell_type": "markdown",
   "id": "cb877839",
   "metadata": {},
   "source": [
    "# Program using List"
   ]
  },
  {
   "cell_type": "code",
   "execution_count": 24,
   "id": "be42233b",
   "metadata": {},
   "outputs": [
    {
     "name": "stdout",
     "output_type": "stream",
     "text": [
      "Enter days to know temp. : sun, mon, tue, wed, thus, fri, sat\n",
      "sun\n",
      "the temprature on sunday was 51 degree\n"
     ]
    }
   ],
   "source": [
    "temp=[51,63,53,20,40,10,25]\n",
    "day=input(\"Enter days to know temp. : sun, mon, tue, wed, thus, fri, sat\\n\")\n",
    "day=day.capitalize()\n",
    "if day==\"Sun\":\n",
    "    dayname=\"sunday\"\n",
    "    tem=temp[0] \n",
    "elif day==\"Mon\":\n",
    "    dayname=\"monday\"\n",
    "    tem=temp[1]\n",
    "    \n",
    "elif day==\"Tue\":\n",
    "    dayname=\"tuesday\"\n",
    "    tem=temp[2]\n",
    "    \n",
    "elif day==\"Wed\":\n",
    "    dayname=\"Wednusday\"\n",
    "    tem=temp[3]\n",
    "    \n",
    "elif day==\"Thus\":\n",
    "    dayname=\"thurseday\"\n",
    "    tem=temp[4]\n",
    "    \n",
    "elif day==\"Fri\":\n",
    "    dayname=\"friday\"\n",
    "    tem=temp[5]\n",
    "    \n",
    "elif day==\"Sat\":\n",
    "    dayname=\"saturday\"\n",
    "    tem=temp[6]\n",
    "else:\n",
    "    print(\"Wrong input\")\n",
    "    \n",
    "print(f\"the temprature on {dayname} was {tem} degree\")\n"
   ]
  },
  {
   "cell_type": "markdown",
   "id": "a0b0a27a",
   "metadata": {},
   "source": [
    "# Program using Dictionary"
   ]
  },
  {
   "cell_type": "code",
   "execution_count": 3,
   "id": "54d14013",
   "metadata": {},
   "outputs": [
    {
     "name": "stdout",
     "output_type": "stream",
     "text": [
      "Enter days to know temp : sun, mon, tue, wed, thus, fri, sat\n",
      "sun\n",
      "the temprature on Sunday was 10 degree\n"
     ]
    }
   ],
   "source": [
    "daily_temp={\"Sun\":10,\"Mon\":20,\"Tue\":30,\"Wed\":40,\"Thus\":50,\"Fri\":60,\"Sat\":70}\n",
    "daily_day={\"Sun\":\"Sunday\",\"Mon\":\"Monday\",\"Tue\":\"Tuesday\",\"Wed\":\"Wednesday\",\"Thus\":\"Thusday\",\"Fri\":\"Friday\",\"Sat\":\"Saturday\"}\n",
    "day=input(\"Enter days to know temp : sun, mon, tue, wed, thus, fri, sat\\n\")\n",
    "day=day.capitalize()\n",
    "print(f\"the temprature on {daily_day[day]} was {daily_temp[day]} degree\")"
   ]
  },
  {
   "cell_type": "code",
   "execution_count": null,
   "id": "578364cb",
   "metadata": {},
   "outputs": [],
   "source": []
  },
  {
   "cell_type": "code",
   "execution_count": null,
   "id": "9eee68f6",
   "metadata": {},
   "outputs": [],
   "source": []
  },
  {
   "cell_type": "code",
   "execution_count": null,
   "id": "fb162802",
   "metadata": {},
   "outputs": [],
   "source": []
  }
 ],
 "metadata": {
  "kernelspec": {
   "display_name": "Python 3 (ipykernel)",
   "language": "python",
   "name": "python3"
  },
  "language_info": {
   "codemirror_mode": {
    "name": "ipython",
    "version": 3
   },
   "file_extension": ".py",
   "mimetype": "text/x-python",
   "name": "python",
   "nbconvert_exporter": "python",
   "pygments_lexer": "ipython3",
   "version": "3.9.13"
  }
 },
 "nbformat": 4,
 "nbformat_minor": 5
}
