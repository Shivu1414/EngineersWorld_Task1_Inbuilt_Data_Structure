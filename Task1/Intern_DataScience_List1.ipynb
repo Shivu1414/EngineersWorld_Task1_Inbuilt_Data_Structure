{
 "cells": [
  {
   "cell_type": "markdown",
   "id": "53b46814",
   "metadata": {},
   "source": [
    "# Python Basics (Inbuild DataStructure)"
   ]
  },
  {
   "cell_type": "code",
   "execution_count": 4,
   "id": "6b17e0b9",
   "metadata": {},
   "outputs": [
    {
     "name": "stdout",
     "output_type": "stream",
     "text": [
      "['dog', 'Monkey', 'Lion']\n"
     ]
    }
   ],
   "source": [
    "Animal=[\"dog\",\"Monkey\",\"Lion\"]\n",
    "print(Animal)"
   ]
  },
  {
   "cell_type": "code",
   "execution_count": 5,
   "id": "bbe3bea7",
   "metadata": {},
   "outputs": [
    {
     "name": "stdout",
     "output_type": "stream",
     "text": [
      "Monkey\n"
     ]
    }
   ],
   "source": [
    "Animal=[\"dog\",\"Monkey\",\"Lion\"]\n",
    "print(Animal[1])"
   ]
  },
  {
   "cell_type": "code",
   "execution_count": 1,
   "id": "a7356d33",
   "metadata": {},
   "outputs": [
    {
     "name": "stdout",
     "output_type": "stream",
     "text": [
      "['Dryfruits', 'mango', 'Ginger', 'Potato', 105, 205, 305, 305]\n"
     ]
    }
   ],
   "source": [
    "List=[\"Dryfruits\",\"mango\",\"Ginger\",\"Potato\",105,205,305,305]\n",
    "print(List)"
   ]
  },
  {
   "cell_type": "code",
   "execution_count": 8,
   "id": "e48046d8",
   "metadata": {},
   "outputs": [
    {
     "name": "stdout",
     "output_type": "stream",
     "text": [
      "[['Mango', 'DryFruits'], ['Potato', 'Tomato']]\n",
      "DryFruits\n"
     ]
    }
   ],
   "source": [
    "List2=[[\"Mango\",\"DryFruits\"],[\"Potato\",\"Tomato\"]]\n",
    "print(List2)\n",
    "print(List2[0][1])"
   ]
  },
  {
   "cell_type": "markdown",
   "id": "a323b470",
   "metadata": {},
   "source": [
    "# for loop in list"
   ]
  },
  {
   "cell_type": "code",
   "execution_count": 12,
   "id": "faaa2eca",
   "metadata": {},
   "outputs": [
    {
     "name": "stdout",
     "output_type": "stream",
     "text": [
      "10 20 30 40 50 10\n",
      "20\n",
      "30\n",
      "40\n",
      "50\n"
     ]
    }
   ],
   "source": [
    "List=[10,20,30,40,50]\n",
    "for num in List:\n",
    "    print(num,end=(\" \"))\n",
    "for num in List:\n",
    "    print(num)"
   ]
  },
  {
   "cell_type": "markdown",
   "id": "bcff5514",
   "metadata": {},
   "source": [
    "# List Operations"
   ]
  },
  {
   "cell_type": "markdown",
   "id": "70a8b209",
   "metadata": {},
   "source": [
    "# Replace , Insert , Sort , Delete , Append , Reverse"
   ]
  },
  {
   "cell_type": "code",
   "execution_count": 13,
   "id": "ef7ceb4b",
   "metadata": {},
   "outputs": [
    {
     "name": "stdout",
     "output_type": "stream",
     "text": [
      "[10, 20, 30, 40, 50]\n",
      "[10, 20, 3.5, 40, 50]\n"
     ]
    }
   ],
   "source": [
    "#Replace operation\n",
    "List=[10,20,30,40,50]\n",
    "print(List)\n",
    "List[2]=3.5\n",
    "print(List)"
   ]
  },
  {
   "cell_type": "code",
   "execution_count": 15,
   "id": "f987519c",
   "metadata": {},
   "outputs": [
    {
     "name": "stdout",
     "output_type": "stream",
     "text": [
      "[10, 20, 30, 40, 50]\n",
      "[10, 20, 'Hello', 30, 40, 50]\n"
     ]
    }
   ],
   "source": [
    "#Insert operation\n",
    "List=[10,20,30,40,50]\n",
    "print(List)\n",
    "List.insert(2,\"Hello\")\n",
    "print(List)"
   ]
  },
  {
   "cell_type": "code",
   "execution_count": 22,
   "id": "5c766ab4",
   "metadata": {},
   "outputs": [
    {
     "name": "stdout",
     "output_type": "stream",
     "text": [
      "[10, 15, 40, 70, 80]\n",
      "['Akash', 'Jainendra', 'shivam']\n"
     ]
    }
   ],
   "source": [
    "#Sort Operation  (We can't perform sort operation from where the Mix value present Like Integer and String)\n",
    "List1=[10,80,70,40,15]\n",
    "List1.sort()\n",
    "print(List1)\n",
    "List2=[\"shivam\",\"Jainendra\",\"Akash\"]\n",
    "List2.sort()\n",
    "print(List2)"
   ]
  },
  {
   "cell_type": "code",
   "execution_count": null,
   "id": "5e8f7589",
   "metadata": {},
   "outputs": [],
   "source": [
    "#Delete Operation\n",
    "List=[10,80,70,40,15]\n",
    "print(List)\n",
    "del List[2]\n",
    "print(List)\n",
    "del List\n",
    "# print(List)   Shows error because List got deleted"
   ]
  },
  {
   "cell_type": "code",
   "execution_count": 26,
   "id": "fa8bcb55",
   "metadata": {},
   "outputs": [
    {
     "name": "stdout",
     "output_type": "stream",
     "text": [
      "['cat', 'Dog', 'Lion', 'Donkey']\n"
     ]
    }
   ],
   "source": [
    "#Append  Operation\n",
    "Animal=[\"cat\",\"Dog\",\"Lion\"]\n",
    "Animal.append(\"Donkey\")\n",
    "print(Animal)"
   ]
  },
  {
   "cell_type": "code",
   "execution_count": 27,
   "id": "8b62592f",
   "metadata": {},
   "outputs": [
    {
     "name": "stdout",
     "output_type": "stream",
     "text": [
      "['Lion', 'Dog', 'cat']\n",
      "[1, 40, 70, 80, 10]\n"
     ]
    }
   ],
   "source": [
    "# Reverse Operation\n",
    "Animal=[\"cat\",\"Dog\",\"Lion\"]\n",
    "List=[10,80,70,40,1]\n",
    "Animal.reverse()\n",
    "List.reverse()\n",
    "print(Animal)\n",
    "print(List)"
   ]
  },
  {
   "cell_type": "markdown",
   "id": "1d948b23",
   "metadata": {},
   "source": [
    "# Exersize"
   ]
  },
  {
   "cell_type": "code",
   "execution_count": 32,
   "id": "241bd4f9",
   "metadata": {},
   "outputs": [
    {
     "name": "stdout",
     "output_type": "stream",
     "text": [
      "[10, 80, 500, 40, 1]\n",
      "['cat', 'Dog', 'Elephant']\n",
      "[10, 80, 500, 40, 1, 1000]\n",
      "['cat', 'Dog', 'Elephant', 'Hippo']\n",
      "[10, 500, 40, 1, 1000]\n",
      "['cat', 'Elephant', 'Hippo']\n",
      "[1, 10, 40, 500, 1000]\n",
      "['Elephant', 'Hippo', 'cat']\n",
      "[1000, 500, 40, 10, 1]\n",
      "['cat', 'Hippo', 'Elephant']\n",
      "['Queen', 1000, 500, 40, 10, 1]\n",
      "['Tomi', 'cat', 'Hippo', 'Elephant']\n"
     ]
    }
   ],
   "source": [
    "List=[10,80,70,40,1]\n",
    "Animal=[\"cat\",\"Dog\",\"Lion\"]\n",
    "\n",
    "#Replace\n",
    "List[2]=500 \n",
    "Animal[2]=\"Elephant\"\n",
    "print(List)\n",
    "print(Animal)\n",
    "\n",
    "#Append\n",
    "List.append(1000)\n",
    "Animal.append(\"Hippo\")\n",
    "print(List)\n",
    "print(Animal)\n",
    "\n",
    "#Delete\n",
    "del List[1]\n",
    "del Animal[1]\n",
    "print(List)\n",
    "print(Animal)\n",
    " \n",
    "#sort\n",
    "List.sort()\n",
    "Animal.sort()\n",
    "print(List)\n",
    "print(Animal)\n",
    "\n",
    "#Reverse\n",
    "List.reverse()\n",
    "Animal.reverse()\n",
    "print(List)\n",
    "print(Animal)\n",
    "\n",
    "#Insert\n",
    "List.insert(0,\"Queen\")\n",
    "Animal.insert(0,\"Tomi\")\n",
    "# List(\"Toffy\")  This shows error because here we need to insert index as well as value\n",
    "print(List)\n",
    "print(Animal)"
   ]
  },
  {
   "cell_type": "code",
   "execution_count": null,
   "id": "a469113f",
   "metadata": {},
   "outputs": [],
   "source": []
  }
 ],
 "metadata": {
  "kernelspec": {
   "display_name": "Python 3 (ipykernel)",
   "language": "python",
   "name": "python3"
  },
  "language_info": {
   "codemirror_mode": {
    "name": "ipython",
    "version": 3
   },
   "file_extension": ".py",
   "mimetype": "text/x-python",
   "name": "python",
   "nbconvert_exporter": "python",
   "pygments_lexer": "ipython3",
   "version": "3.9.13"
  }
 },
 "nbformat": 4,
 "nbformat_minor": 5
}
